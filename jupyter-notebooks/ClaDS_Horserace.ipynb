{
 "cells": [
  {
   "cell_type": "code",
   "execution_count": 144,
   "metadata": {},
   "outputs": [
    {
     "name": "stdout",
     "output_type": "stream",
     "text": [
      "The autoreload extension is already loaded. To reload it, use:\n",
      "  %reload_ext autoreload\n",
      "The rpy2.ipython extension is already loaded. To reload it, use:\n",
      "  %reload_ext rpy2.ipython\n"
     ]
    }
   ],
   "source": [
    "%load_ext autoreload\n",
    "%autoreload 2\n",
    "%matplotlib inline\n",
    "%load_ext rpy2.ipython\n",
    "\n",
    "import ipyparallel as ipp\n",
    "import matplotlib.pyplot as plt\n",
    "import numpy as np\n",
    "import pandas as pd\n",
    "import random\n",
    "import toytree\n",
    "\n",
    "import PIED\n",
    "\n",
    "from collections import Counter\n",
    "\n",
    "pd.set_option('display.max_rows', 100)\n",
    "pd.set_option('display.max_columns', 500)\n",
    "\n",
    "ipyclient = ipp.Client(cluster_id=\"cannabis\")\n",
    "len(ipyclient)\n",
    "\n",
    "ntaxa = 50"
   ]
  },
  {
   "cell_type": "markdown",
   "metadata": {},
   "source": [
    "## ClaDS return type\n",
    "\n",
    "    list(\"tree\"=obj,\"times\"=times,\"nblineages\"=nblineages,\"rates\"=rates,\n",
    "    \"lamb\"=lamb,\"mu\"=mu,\"maxRate\"=tooHigh,\"root_length\"=root_length))\n",
    "\n",
    "## Run one simulation to test behavior"
   ]
  },
  {
   "cell_type": "code",
   "execution_count": 145,
   "metadata": {},
   "outputs": [],
   "source": [
    "%%R -i ntaxa -o res\n",
    "res = sim_ClaDS(lambda_0=0.3, sigma_lamb=0.2, alpha_lamb=0.7, mu_0=0.5, taxa_stop=ntaxa, condition=\"taxa\", prune_extinct=T)\n"
   ]
  },
  {
   "cell_type": "markdown",
   "metadata": {},
   "source": [
    "## Run several simulations"
   ]
  },
  {
   "cell_type": "code",
   "execution_count": 146,
   "metadata": {},
   "outputs": [],
   "source": [
    "%%R -i ntaxa -o lamb -o mu\n",
    "source(\"../sim_clads.R\")\n",
    "lamb = list()\n",
    "mu = list()\n",
    "for (i in 1:10){\n",
    "    r = sim_ClaDS(lambda_0=0.3, sigma_lamb=0.2, alpha_lamb=0.7, mu_0=0.5, taxa_stop=ntaxa, condition=\"taxa\", prune_extinct=T)\n",
    "    lamb[i] = r[5]\n",
    "    mu[i] = r[6]\n",
    "    }"
   ]
  },
  {
   "cell_type": "code",
   "execution_count": 147,
   "metadata": {},
   "outputs": [
    {
     "data": {
      "text/plain": [
       "(array([199.,  82.,  62.,  41.,  23.,  19.,  11.,  11.,   9.,  11.,   7.,\n",
       "          9.,   3.,   1.,   2.,   5.,   2.,   0.,   1.,   2.]),\n",
       " array([4.33091845e-05, 1.14419150e-03, 2.24507381e-03, 3.34595613e-03,\n",
       "        4.44683845e-03, 5.54772076e-03, 6.64860308e-03, 7.74948539e-03,\n",
       "        8.85036771e-03, 9.95125002e-03, 1.10521323e-02, 1.21530147e-02,\n",
       "        1.32538970e-02, 1.43547793e-02, 1.54556616e-02, 1.65565439e-02,\n",
       "        1.76574262e-02, 1.87583085e-02, 1.98591909e-02, 2.09600732e-02,\n",
       "        2.20609555e-02]),\n",
       " <a list of 20 Patch objects>)"
      ]
     },
     "execution_count": 147,
     "metadata": {},
     "output_type": "execute_result"
    },
    {
     "data": {
      "image/png": "[encoded data removed]",
      "text/plain": [
       "<Figure size 432x288 with 1 Axes>"
      ]
     },
     "metadata": {
      "needs_background": "light"
     },
     "output_type": "display_data"
    }
   ],
   "source": [
    "lamb = np.array(lamb)\n",
    "mu = np.array(mu)\n",
    "l = [item for sublist in lamb for item in sublist[-50:]]\n",
    "m = [item for sublist in mu for item in sublist[-50:]]\n",
    "plt.hist(l, bins=20, alpha=0.5)\n",
    "plt.hist(m, bins=20, alpha=0.5)"
   ]
  },
  {
   "cell_type": "markdown",
   "metadata": {},
   "source": [
    "# Compare to PIED"
   ]
  },
  {
   "cell_type": "code",
   "execution_count": 116,
   "metadata": {},
   "outputs": [
    {
     "name": "stdout",
     "output_type": "stream",
     "text": [
      "------- PIED params file (v.0.0.2)----------------------------------------------\n",
      "clads-horserace      ## [0] [simulation_name]: The name of this simulation scenario\n",
      "./default_PIED       ## [1] [project_dir]: Where to save files\n",
      "0.3                  ## [2] [birth_rate]: Speciation rate\n",
      "taxa                 ## [3] [stop_criterion]: Whether to stop on ntaxa or time\n",
      "50                   ## [4] [ntaxa]: Number of taxa to simulate if stop is `ntaxa`\n",
      "4                    ## [5] [time]: Amount of time to simulate if stop is `time`\n",
      "abundance            ## [6] [process]: Whether to evolve `abundance` or growth `rate` via BM\n",
      "True                 ## [7] [ClaDS]: Whether to allow speciation rates to change along the branches a la ClaDS\n",
      "500000               ## [8] [abundance_mean]: Ancestral abundance at time 0\n",
      "0.0                  ## [9] [abundance_sigma]: Rate at which abundance changes if process is `abundance`\n",
      "0.005                ## [10] [growth_rate_mean]: Ancestral population growth rate at time 0.\n",
      "0.005                ## [11] [growth_rate_sigma]: Rate at which growth rate changes if process is `rate`\n",
      "0.2                  ## [12] [ClaDS_sigma]: Rate at which speciation rate changes if ClaDS is True.\n",
      "0.7                  ## [13] [ClaDS_alpha]: Rate shift if ClaDS is True\n",
      "1000                 ## [14] [sequence_length]: Length of the genomic region simulated, in base pairs.\n",
      "1e-08                ## [15] [mutation_rate]: Mutation rate per base per generation\n",
      "5                    ## [16] [sample_size]: Number of samples to draw for calculating genetic diversity\n",
      "\n"
     ]
    }
   ],
   "source": [
    "tree = PIED.Core(\"clads-horserace\")\n",
    "tree.set_param(\"ntaxa\", 50)\n",
    "tree.set_param(\"birth_rate\", 0.3)\n",
    "tree.set_param(\"process\", \"abundance\")\n",
    "tree.set_param(\"abundance_mean\", 5e5)\n",
    "tree.set_param(\"abundance_sigma\", 0)\n",
    "tree.set_param(\"growth_rate_mean\", 5e-3)\n",
    "tree.set_param(\"growth_rate_sigma\", 5e-3)\n",
    "tree.set_param(\"ClaDS\", \"True\")\n",
    "tree.set_param(\"ClaDS_sigma\", 0.2)\n",
    "tree.set_param(\"ClaDS_alpha\", 0.7)\n",
    "tree.set_param(\"sequence_length\", 1000)\n",
    "tree.set_param(\"mutation_rate\", 1e-8)\n",
    "tree.set_param(\"sample_size\", 5)\n",
    "_ = tree.get_params(verbose=True)"
   ]
  },
  {
   "cell_type": "code",
   "execution_count": 120,
   "metadata": {},
   "outputs": [
    {
     "name": "stdout",
     "output_type": "stream",
     "text": [
      "    Generating 50 simulation(s).\n",
      "  [####################] 100%  Finished 50 simulations in   0:00:04| \n",
      " "
     ]
    }
   ],
   "source": [
    "tree.simulate(nsims=50, ipyclient=ipyclient)"
   ]
  },
  {
   "cell_type": "code",
   "execution_count": 148,
   "metadata": {},
   "outputs": [
    {
     "data": {
      "image/png": "[encoded data removed]",
      "text/plain": [
       "<Figure size 432x288 with 1 Axes>"
      ]
     },
     "metadata": {
      "needs_background": "light"
     },
     "output_type": "display_data"
    }
   ],
   "source": [
    "simfile = \"/home/isaac/PIED/jupyter-notebooks/default_PIED/clads-horserace-SIMOUT.csv\"\n",
    "params, data = PIED.util.load_sims(simfile)\n",
    "lambs = []\n",
    "for idx, dat in data.iterrows():\n",
    "    l = [x[\"lambda_\"] for x in dat]\n",
    "    lambs.extend(l)\n",
    "#    plt.hist(lambs, alpha=0.5, bins=20)\n",
    "#    if idx == 10: break\n",
    "_, _, _ = plt.hist(lambs, alpha=0.5, bins=20)\n",
    "_, _, _ = plt.hist(params[\"turnover_rate\"])"
   ]
  },
  {
   "cell_type": "code",
   "execution_count": 149,
   "metadata": {},
   "outputs": [
    {
     "name": "stdout",
     "output_type": "stream",
     "text": [
      "100\n"
     ]
    },
    {
     "data": {
      "image/png": "[encoded data removed]",
      "text/plain": [
       "<Figure size 432x288 with 1 Axes>"
      ]
     },
     "metadata": {
      "needs_background": "light"
     },
     "output_type": "display_data"
    }
   ],
   "source": [
    "print(len(params[\"turnover_rate\"]))\n",
    "_, _, _ = plt.hist(params[\"turnover_rate\"], bins=20)"
   ]
  }
 ],
 "metadata": {
  "kernelspec": {
   "display_name": "Python 3",
   "language": "python",
   "name": "python3"
  },
  "language_info": {
   "codemirror_mode": {
    "name": "ipython",
    "version": 3
   },
   "file_extension": ".py",
   "mimetype": "text/x-python",
   "name": "python",
   "nbconvert_exporter": "python",
   "pygments_lexer": "ipython3",
   "version": "3.6.7"
  }
 },
 "nbformat": 4,
 "nbformat_minor": 4
}
