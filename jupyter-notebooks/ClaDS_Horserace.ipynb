{
 "cells": [
  {
   "cell_type": "code",
   "execution_count": 144,
   "metadata": {},
   "outputs": [
    {
     "name": "stdout",
     "output_type": "stream",
     "text": [
      "The autoreload extension is already loaded. To reload it, use:\n",
      "  %reload_ext autoreload\n",
      "The rpy2.ipython extension is already loaded. To reload it, use:\n",
      "  %reload_ext rpy2.ipython\n"
     ]
    }
   ],
   "source": [
    "%load_ext autoreload\n",
    "%autoreload 2\n",
    "%matplotlib inline\n",
    "%load_ext rpy2.ipython\n",
    "\n",
    "import ipyparallel as ipp\n",
    "import matplotlib.pyplot as plt\n",
    "import numpy as np\n",
    "import pandas as pd\n",
    "import random\n",
    "import toytree\n",
    "\n",
    "import PIED\n",
    "\n",
    "from collections import Counter\n",
    "\n",
    "pd.set_option('display.max_rows', 100)\n",
    "pd.set_option('display.max_columns', 500)\n",
    "\n",
    "ipyclient = ipp.Client(cluster_id=\"cannabis\")\n",
    "len(ipyclient)\n",
    "\n",
    "ntaxa = 50"
   ]
  },
  {
   "cell_type": "markdown",
   "metadata": {},
   "source": [
    "## ClaDS return type\n",
    "\n",
    "    list(\"tree\"=obj,\"times\"=times,\"nblineages\"=nblineages,\"rates\"=rates,\n",
    "    \"lamb\"=lamb,\"mu\"=mu,\"maxRate\"=tooHigh,\"root_length\"=root_length))\n",
    "\n",
    "## Run one simulation to test behavior"
   ]
  },
  {
   "cell_type": "code",
   "execution_count": 145,
   "metadata": {},
   "outputs": [],
   "source": [
    "%%R -i ntaxa -o res\n",
    "res = sim_ClaDS(lambda_0=0.3, sigma_lamb=0.2, alpha_lamb=0.7, mu_0=0.5, taxa_stop=ntaxa, condition=\"taxa\", prune_extinct=T)\n"
   ]
  },
  {
   "cell_type": "markdown",
   "metadata": {},
   "source": [
    "## Run several simulations"
   ]
  },
  {
   "cell_type": "code",
   "execution_count": 174,
   "metadata": {},
   "outputs": [],
   "source": [
    "%%R -i ntaxa -o times -o lamb -o mu\n",
    "source(\"../sim_clads.R\")\n",
    "times = list()\n",
    "lamb = list()\n",
    "mu = list()\n",
    "\n",
    "for (i in 1:10){\n",
    "    r = sim_ClaDS(lambda_0=0.3, sigma_lamb=0.2, alpha_lamb=0.7, mu_0=0.5, taxa_stop=ntaxa, condition=\"taxa\", prune_extinct=T)\n",
    "    times[i] = r[2]\n",
    "    lamb[i] = r[5]\n",
    "    mu[i] = r[6]\n",
    "    }"
   ]
  },
  {
   "cell_type": "markdown",
   "metadata": {},
   "source": [
    "## Total time per simulation\n",
    "As the last speciation event time"
   ]
  },
  {
   "cell_type": "code",
   "execution_count": 181,
   "metadata": {},
   "outputs": [
    {
     "data": {
      "image/png": "[encoded data removed]",
      "text/plain": [
       "<Figure size 432x288 with 1 Axes>"
      ]
     },
     "metadata": {
      "needs_background": "light"
     },
     "output_type": "display_data"
    }
   ],
   "source": [
    "time = np.array(times)\n",
    "time = [x[:-1] for x in time]\n",
    "_ = plt.hist(time)"
   ]
  },
  {
   "cell_type": "markdown",
   "metadata": {},
   "source": [
    "## Distributions of lambda and mu for ClaDS"
   ]
  },
  {
   "cell_type": "code",
   "execution_count": 165,
   "metadata": {},
   "outputs": [
    {
     "data": {
      "image/png": "[encoded data removed]",
      "text/plain": [
       "<Figure size 432x288 with 1 Axes>"
      ]
     },
     "metadata": {
      "needs_background": "light"
     },
     "output_type": "display_data"
    }
   ],
   "source": [
    "lamb = np.array(lamb)\n",
    "mu = np.array(mu)\n",
    "l = [item for sublist in lamb for item in sublist[-50:]]\n",
    "m = [item for sublist in mu for item in sublist[-50:]]\n",
    "_ = plt.hist(l, bins=40, alpha=0.5)\n",
    "_ = plt.hist(m, bins=40, alpha=0.5)"
   ]
  },
  {
   "cell_type": "markdown",
   "metadata": {},
   "source": [
    "# Compare to PIED"
   ]
  },
  {
   "cell_type": "code",
   "execution_count": 116,
   "metadata": {},
   "outputs": [
    {
     "name": "stdout",
     "output_type": "stream",
     "text": [
      "------- PIED params file (v.0.0.2)----------------------------------------------\n",
      "clads-horserace      ## [0] [simulation_name]: The name of this simulation scenario\n",
      "./default_PIED       ## [1] [project_dir]: Where to save files\n",
      "0.3                  ## [2] [birth_rate]: Speciation rate\n",
      "taxa                 ## [3] [stop_criterion]: Whether to stop on ntaxa or time\n",
      "50                   ## [4] [ntaxa]: Number of taxa to simulate if stop is `ntaxa`\n",
      "4                    ## [5] [time]: Amount of time to simulate if stop is `time`\n",
      "abundance            ## [6] [process]: Whether to evolve `abundance` or growth `rate` via BM\n",
      "True                 ## [7] [ClaDS]: Whether to allow speciation rates to change along the branches a la ClaDS\n",
      "500000               ## [8] [abundance_mean]: Ancestral abundance at time 0\n",
      "0.0                  ## [9] [abundance_sigma]: Rate at which abundance changes if process is `abundance`\n",
      "0.005                ## [10] [growth_rate_mean]: Ancestral population growth rate at time 0.\n",
      "0.005                ## [11] [growth_rate_sigma]: Rate at which growth rate changes if process is `rate`\n",
      "0.2                  ## [12] [ClaDS_sigma]: Rate at which speciation rate changes if ClaDS is True.\n",
      "0.7                  ## [13] [ClaDS_alpha]: Rate shift if ClaDS is True\n",
      "1000                 ## [14] [sequence_length]: Length of the genomic region simulated, in base pairs.\n",
      "1e-08                ## [15] [mutation_rate]: Mutation rate per base per generation\n",
      "5                    ## [16] [sample_size]: Number of samples to draw for calculating genetic diversity\n",
      "\n"
     ]
    }
   ],
   "source": [
    "tree = PIED.Core(\"clads-horserace\")\n",
    "tree.set_param(\"ntaxa\", 50)\n",
    "tree.set_param(\"birth_rate\", 0.3)\n",
    "tree.set_param(\"process\", \"abundance\")\n",
    "tree.set_param(\"abundance_mean\", 5e5)\n",
    "tree.set_param(\"abundance_sigma\", 0)\n",
    "tree.set_param(\"growth_rate_mean\", 5e-3)\n",
    "tree.set_param(\"growth_rate_sigma\", 5e-3)\n",
    "tree.set_param(\"ClaDS\", \"True\")\n",
    "tree.set_param(\"ClaDS_sigma\", 0.2)\n",
    "tree.set_param(\"ClaDS_alpha\", 0.7)\n",
    "tree.set_param(\"sequence_length\", 1000)\n",
    "tree.set_param(\"mutation_rate\", 1e-8)\n",
    "tree.set_param(\"sample_size\", 5)\n",
    "_ = tree.get_params(verbose=True)"
   ]
  },
  {
   "cell_type": "code",
   "execution_count": 120,
   "metadata": {},
   "outputs": [
    {
     "name": "stdout",
     "output_type": "stream",
     "text": [
      "    Generating 50 simulation(s).\n",
      "  [####################] 100%  Finished 50 simulations in   0:00:04| \n",
      " "
     ]
    }
   ],
   "source": [
    "tree.simulate(nsims=50, ipyclient=ipyclient)"
   ]
  },
  {
   "cell_type": "code",
   "execution_count": 167,
   "metadata": {},
   "outputs": [
    {
     "data": {
      "image/png": "[encoded data removed]",
      "text/plain": [
       "<Figure size 432x288 with 1 Axes>"
      ]
     },
     "metadata": {
      "needs_background": "light"
     },
     "output_type": "display_data"
    }
   ],
   "source": [
    "simfile = \"/home/isaac/PIED/jupyter-notebooks/default_PIED/clads-horserace-SIMOUT.csv\"\n",
    "params, data = PIED.util.load_sims(simfile)\n",
    "lambs = []\n",
    "for idx, dat in data.iterrows():\n",
    "    l = [x[\"lambda_\"] for x in dat]\n",
    "    lambs.extend(l)\n",
    "_, _, _ = plt.hist(lambs, alpha=0.5, bins=40)"
   ]
  },
  {
   "cell_type": "code",
   "execution_count": 149,
   "metadata": {},
   "outputs": [
    {
     "name": "stdout",
     "output_type": "stream",
     "text": [
      "100\n"
     ]
    },
    {
     "data": {
      "image/png": "[encoded data removed]",
      "text/plain": [
       "<Figure size 432x288 with 1 Axes>"
      ]
     },
     "metadata": {
      "needs_background": "light"
     },
     "output_type": "display_data"
    }
   ],
   "source": [
    "_ = plt.hist(params[\"turnover_rate\"], bins=20)"
   ]
  },
  {
   "cell_type": "markdown",
   "metadata": {},
   "source": [
    "## PIED Total time per simulation"
   ]
  },
  {
   "cell_type": "code",
   "execution_count": 168,
   "metadata": {},
   "outputs": [
    {
     "data": {
      "image/png": "[encoded data removed]",
      "text/plain": [
       "<Figure size 432x288 with 1 Axes>"
      ]
     },
     "metadata": {
      "needs_background": "light"
     },
     "output_type": "display_data"
    }
   ],
   "source": [
    "_ = plt.hist(params[\"obs_time\"], bins=20)"
   ]
  }
 ],
 "metadata": {
  "kernelspec": {
   "display_name": "Python 3",
   "language": "python",
   "name": "python3"
  },
  "language_info": {
   "codemirror_mode": {
    "name": "ipython",
    "version": 3
   },
   "file_extension": ".py",
   "mimetype": "text/x-python",
   "name": "python",
   "nbconvert_exporter": "python",
   "pygments_lexer": "ipython3",
   "version": "3.6.7"
  }
 },
 "nbformat": 4,
 "nbformat_minor": 4
}
