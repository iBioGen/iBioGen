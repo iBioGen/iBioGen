{
 "cells": [
  {
   "cell_type": "code",
   "execution_count": 1,
   "metadata": {},
   "outputs": [
    {
     "data": {
      "text/plain": [
       "40"
      ]
     },
     "execution_count": 1,
     "metadata": {},
     "output_type": "execute_result"
    }
   ],
   "source": [
    "%load_ext autoreload\n",
    "%autoreload 2\n",
    "%matplotlib inline\n",
    "#%load_ext rpy2.ipython\n",
    "\n",
    "import ipyparallel as ipp\n",
    "import matplotlib.pyplot as plt\n",
    "import msprime\n",
    "import numpy as np\n",
    "import pandas as pd\n",
    "import PIED\n",
    "import toytree\n",
    "\n",
    "from collections import Counter\n",
    "from IPython.display import display, SVG\n",
    "\n",
    "pd.set_option('display.max_rows', 100)\n",
    "pd.set_option('display.max_columns', 500)\n",
    "\n",
    "ipyclient = ipp.Client(cluster_id=\"cannabis\")\n",
    "len(ipyclient)"
   ]
  },
  {
   "cell_type": "markdown",
   "metadata": {},
   "source": [
    "# No speciation rate shifts"
   ]
  },
  {
   "cell_type": "code",
   "execution_count": null,
   "metadata": {},
   "outputs": [],
   "source": [
    "tree = PIED.Core(\"vartest\")\n",
    "tree.set_param(\"ntaxa\", 100)\n",
    "tree.set_param(\"birth_rate\", 0.3)\n",
    "tree.set_param(\"process\", \"rate\")\n",
    "tree.set_param(\"abundance_mean\", 5e3)\n",
    "tree.set_param(\"abundance_sigma\", 0)\n",
    "tree.set_param(\"growth_rate_mean\", 5e-3)\n",
    "tree.set_param(\"growth_rate_sigma\", 5e-3)\n",
    "tree.set_param(\"ClaDS\", \"False\")\n",
    "tree.set_param(\"ClaDS_sigma\", 0.2)\n",
    "tree.set_param(\"ClaDS_alpha\", 0.95)\n",
    "tree.set_param(\"sequence_length\", 1000)\n",
    "tree.set_param(\"mutation_rate\", 1e-9)\n",
    "tree.set_param(\"sample_size\", 5)\n",
    "_ = tree.get_params(verbose=True)\n"
   ]
  },
  {
   "cell_type": "code",
   "execution_count": null,
   "metadata": {},
   "outputs": [],
   "source": [
    "nsims=10\n",
    "for r in [5e-3, 5e-4, 5e-5]:\n",
    "    tree.set_param(\"growth_rate_sigma\", r)\n",
    "    tree.simulate(nsims=nsims, ipyclient=ipyclient)"
   ]
  },
  {
   "cell_type": "code",
   "execution_count": null,
   "metadata": {},
   "outputs": [],
   "source": [
    "simfile = \"/home/isaac/PIED/jupyter-notebooks/default_PIED/vartest-SIMOUT.csv\"\n",
    "df = pd.read_csv(simfile, header=0, sep=\" \")\n",
    "sims = []\n",
    "for rec in df[\"data(name:abundance:pi:r:lambda)\"]:\n",
    "# split the records for each species, separated by ','\n",
    "    dat = rec.split(\",\")\n",
    "    dat = {x:{\"abundance\":int(y), \"pi\":float(z), \"r\":float(aa), \"lambda_\":float(bb)} for x, y, z, aa, bb in map(lambda x: x.split(\":\"), dat)}\n",
    "    sims.append(dat)\n",
    "df = pd.DataFrame(sims)"
   ]
  },
  {
   "cell_type": "code",
   "execution_count": null,
   "metadata": {},
   "outputs": [],
   "source": [
    "large = df.iloc[:nsims]\n",
    "med = df.iloc[nsims:nsims*2]\n",
    "small = df.iloc[nsims*2:]\n",
    "plt.figure(figsize=(12,8))\n",
    "for r, dat in zip([\"5e-3\", \"5e-4\", \"5e-5\"], [large, med, small]):\n",
    "    rs = []\n",
    "    for row in dat:\n",
    "        rs.extend(dat[row].apply(lambda x: x[\"r\"]))\n",
    "    print(np.std(rs))\n",
    "    plt.hist(rs, bins=500, label=r, alpha=0.4)\n",
    "plt.legend()"
   ]
  },
  {
   "cell_type": "markdown",
   "metadata": {},
   "source": [
    "# speciation rate shifts (ClaDS)"
   ]
  },
  {
   "cell_type": "code",
   "execution_count": null,
   "metadata": {},
   "outputs": [],
   "source": [
    "tree = PIED.Core(\"vartest-clads\")\n",
    "tree.set_param(\"ntaxa\", 100)\n",
    "tree.set_param(\"birth_rate\", 0.3)\n",
    "tree.set_param(\"process\", \"rate\")\n",
    "tree.set_param(\"abundance_mean\", 5e3)\n",
    "tree.set_param(\"abundance_sigma\", 0)\n",
    "tree.set_param(\"growth_rate_mean\", 5e-3)\n",
    "tree.set_param(\"growth_rate_sigma\", 5e-3)\n",
    "tree.set_param(\"ClaDS\", \"True\")\n",
    "tree.set_param(\"ClaDS_sigma\", 0.2)\n",
    "tree.set_param(\"ClaDS_alpha\", 0.95)\n",
    "tree.set_param(\"sequence_length\", 1000)\n",
    "tree.set_param(\"mutation_rate\", 1e-9)\n",
    "tree.set_param(\"sample_size\", 5)\n",
    "_ = tree.get_params(verbose=True)\n"
   ]
  },
  {
   "cell_type": "code",
   "execution_count": null,
   "metadata": {},
   "outputs": [],
   "source": [
    "nsims=10\n",
    "for r in [5e-3, 5e-4, 5e-5]:\n",
    "    tree.set_param(\"growth_rate_sigma\", r)\n",
    "    tree.simulate(nsims=nsims, ipyclient=ipyclient)"
   ]
  },
  {
   "cell_type": "code",
   "execution_count": null,
   "metadata": {},
   "outputs": [],
   "source": [
    "simfile = \"/home/isaac/PIED/jupyter-notebooks/default_PIED/vartest-clads-SIMOUT.csv\"\n",
    "df = pd.read_csv(simfile, header=0, sep=\" \")\n",
    "sims = []\n",
    "for rec in df[\"data(name:abundance:pi:r:lambda)\"]:\n",
    "# split the records for each species, separated by ','\n",
    "    dat = rec.split(\",\")\n",
    "    dat = {x:{\"abundance\":int(y), \"pi\":float(z), \"r\":float(aa), \"lambda_\":float(bb)} for x, y, z, aa, bb in map(lambda x: x.split(\":\"), dat)}\n",
    "    sims.append(dat)\n",
    "df = pd.DataFrame(sims)"
   ]
  },
  {
   "cell_type": "code",
   "execution_count": null,
   "metadata": {},
   "outputs": [],
   "source": [
    "large = df.iloc[:nsims]\n",
    "med = df.iloc[nsims:nsims*2]\n",
    "small = df.iloc[nsims*2:]\n",
    "plt.figure(figsize=(12,8))\n",
    "for r, dat in zip([\"5e-3\", \"5e-4\", \"5e-5\"], [large, med, small]):\n",
    "    rs = []\n",
    "    for row in dat:\n",
    "        rs.extend(dat[row].apply(lambda x: x[\"r\"]))\n",
    "    print(np.std(rs))\n",
    "    plt.hist(rs, bins=500, label=r, alpha=0.4)\n",
    "plt.legend()"
   ]
  }
 ],
 "metadata": {
  "kernelspec": {
   "display_name": "Python 3",
   "language": "python",
   "name": "python3"
  },
  "language_info": {
   "codemirror_mode": {
    "name": "ipython",
    "version": 3
   },
   "file_extension": ".py",
   "mimetype": "text/x-python",
   "name": "python",
   "nbconvert_exporter": "python",
   "pygments_lexer": "ipython3",
   "version": "3.6.7"
  }
 },
 "nbformat": 4,
 "nbformat_minor": 4
}
