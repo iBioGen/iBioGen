{
 "cells": [
  {
   "cell_type": "code",
   "execution_count": 6,
   "metadata": {},
   "outputs": [
    {
     "name": "stdout",
     "output_type": "stream",
     "text": [
      "The autoreload extension is already loaded. To reload it, use:\n",
      "  %reload_ext autoreload\n"
     ]
    },
    {
     "data": {
      "text/plain": [
       "40"
      ]
     },
     "execution_count": 6,
     "metadata": {},
     "output_type": "execute_result"
    }
   ],
   "source": [
    "%load_ext autoreload\n",
    "%autoreload 2\n",
    "%matplotlib inline\n",
    "#%load_ext rpy2.ipython\n",
    "\n",
    "import ipyparallel as ipp\n",
    "import matplotlib.pyplot as plt\n",
    "import msprime\n",
    "import numpy as np\n",
    "import pandas as pd\n",
    "import PIED\n",
    "import toytree\n",
    "\n",
    "from collections import Counter\n",
    "from IPython.display import display, SVG\n",
    "\n",
    "pd.set_option('display.max_rows', 100)\n",
    "pd.set_option('display.max_columns', 500)\n",
    "\n",
    "ipyclient = ipp.Client(cluster_id=\"cannabis\")\n",
    "len(ipyclient)"
   ]
  },
  {
   "cell_type": "markdown",
   "metadata": {},
   "source": [
    "# No speciation rate shifts"
   ]
  },
  {
   "cell_type": "code",
   "execution_count": 2,
   "metadata": {},
   "outputs": [
    {
     "name": "stdout",
     "output_type": "stream",
     "text": [
      "------- PIED params file (v.0.0.2)----------------------------------------------\n",
      "vartest              ## [0] [simulation_name]: The name of this simulation scenario\n",
      "./default_PIED       ## [1] [project_dir]: Where to save files\n",
      "0.3                  ## [2] [birth_rate]: Speciation rate\n",
      "taxa                 ## [3] [stop_criterion]: Whether to stop on ntaxa or time\n",
      "100                  ## [4] [ntaxa]: Number of taxa to simulate if stop is `ntaxa`\n",
      "4                    ## [5] [time]: Amount of time to simulate if stop is `time`\n",
      "rate                 ## [6] [process]: Whether to evolve `abundance` or growth `rate` via BM\n",
      "False                ## [7] [ClaDS]: Whether to allow speciation rates to change along the branches a la ClaDS\n",
      "5000                 ## [8] [abundance_mean]: Ancestral abundance at time 0\n",
      "0.0                  ## [9] [abundance_sigma]: Rate at which abundance changes if process is `abundance`\n",
      "0.005                ## [10] [growth_rate_mean]: Ancestral population growth rate at time 0.\n",
      "0.005                ## [11] [growth_rate_sigma]: Rate at which growth rate changes if process is `rate`\n",
      "0.2                  ## [12] [ClaDS_sigma]: Rate at which speciation rate changes if ClaDS is True.\n",
      "0.95                 ## [13] [ClaDS_alpha]: Rate shift if ClaDS is True\n",
      "1000                 ## [14] [sequence_length]: Length of the genomic region simulated, in base pairs.\n",
      "1e-09                ## [15] [mutation_rate]: Mutation rate per base per generation\n",
      "5                    ## [16] [sample_size]: Number of samples to draw for calculating genetic diversity\n",
      "\n"
     ]
    }
   ],
   "source": [
    "tree = PIED.Core(\"vartest\")\n",
    "tree.set_param(\"ntaxa\", 100)\n",
    "tree.set_param(\"birth_rate\", 0.3)\n",
    "tree.set_param(\"process\", \"rate\")\n",
    "tree.set_param(\"abundance_mean\", 5e3)\n",
    "tree.set_param(\"abundance_sigma\", 0)\n",
    "tree.set_param(\"growth_rate_mean\", 5e-3)\n",
    "tree.set_param(\"growth_rate_sigma\", 5e-3)\n",
    "tree.set_param(\"ClaDS\", \"False\")\n",
    "tree.set_param(\"ClaDS_sigma\", 0.2)\n",
    "tree.set_param(\"ClaDS_alpha\", 0.95)\n",
    "tree.set_param(\"sequence_length\", 1000)\n",
    "tree.set_param(\"mutation_rate\", 1e-9)\n",
    "tree.set_param(\"sample_size\", 5)\n",
    "_ = tree.get_params(verbose=True)\n"
   ]
  },
  {
   "cell_type": "code",
   "execution_count": 3,
   "metadata": {},
   "outputs": [
    {
     "name": "stdout",
     "output_type": "stream",
     "text": [
      "    Generating 10 simulation(s).\n",
      "  [####################] 100%  Finished 10 simulations in   0:01:01| \n",
      "     Generating 10 simulation(s).\n",
      "  [####################] 100%  Finished 10 simulations in   0:00:28| \n",
      "     Generating 10 simulation(s).\n",
      "  [####################] 100%  Finished 10 simulations in   0:00:18| \n",
      " "
     ]
    }
   ],
   "source": [
    "nsims=10\n",
    "for r in [5e-3, 5e-4, 5e-5]:\n",
    "    tree.set_param(\"growth_rate_sigma\", r)\n",
    "    tree.simulate(nsims=nsims, ipyclient=ipyclient)"
   ]
  },
  {
   "cell_type": "code",
   "execution_count": 32,
   "metadata": {},
   "outputs": [],
   "source": [
    "simfile = \"/home/isaac/PIED/jupyter-notebooks/default_PIED/vartest-SIMOUT.csv\"\n",
    "d_, df = PIED.util.load_sims(simfile)"
   ]
  },
  {
   "cell_type": "code",
   "execution_count": 33,
   "metadata": {},
   "outputs": [
    {
     "name": "stdout",
     "output_type": "stream",
     "text": [
      "0.06281580662666797\n",
      "0.0027656302915717865\n",
      "0.0005665765517795537\n"
     ]
    },
    {
     "data": {
      "text/plain": [
       "<matplotlib.legend.Legend at 0x7f7338ffb668>"
      ]
     },
     "execution_count": 33,
     "metadata": {},
     "output_type": "execute_result"
    },
    {
     "data": {
      "image/png": "[encoded data removed]",
      "text/plain": [
       "<Figure size 864x576 with 1 Axes>"
      ]
     },
     "metadata": {
      "needs_background": "light"
     },
     "output_type": "display_data"
    }
   ],
   "source": [
    "large = df.iloc[:nsims]\n",
    "med = df.iloc[nsims:nsims*2]\n",
    "small = df.iloc[nsims*2:]\n",
    "plt.figure(figsize=(12,8))\n",
    "for r, dat in zip([\"5e-3\", \"5e-4\", \"5e-5\"], [large, med, small]):\n",
    "    rs = []\n",
    "    for row in dat:\n",
    "        rs.extend(dat[row].apply(lambda x: x[\"r\"]))\n",
    "    print(np.std(rs))\n",
    "    plt.hist(rs, bins=50, label=r, alpha=0.4)\n",
    "plt.legend()"
   ]
  },
  {
   "cell_type": "markdown",
   "metadata": {},
   "source": [
    "# speciation rate shifts (ClaDS)"
   ]
  },
  {
   "cell_type": "code",
   "execution_count": 8,
   "metadata": {},
   "outputs": [
    {
     "name": "stdout",
     "output_type": "stream",
     "text": [
      "------- PIED params file (v.0.0.2)----------------------------------------------\n",
      "vartest-clads        ## [0] [simulation_name]: The name of this simulation scenario\n",
      "./default_PIED       ## [1] [project_dir]: Where to save files\n",
      "0.3                  ## [2] [birth_rate]: Speciation rate\n",
      "taxa                 ## [3] [stop_criterion]: Whether to stop on ntaxa or time\n",
      "100                  ## [4] [ntaxa]: Number of taxa to simulate if stop is `ntaxa`\n",
      "4                    ## [5] [time]: Amount of time to simulate if stop is `time`\n",
      "rate                 ## [6] [process]: Whether to evolve `abundance` or growth `rate` via BM\n",
      "True                 ## [7] [ClaDS]: Whether to allow speciation rates to change along the branches a la ClaDS\n",
      "5000                 ## [8] [abundance_mean]: Ancestral abundance at time 0\n",
      "0.0                  ## [9] [abundance_sigma]: Rate at which abundance changes if process is `abundance`\n",
      "0.005                ## [10] [growth_rate_mean]: Ancestral population growth rate at time 0.\n",
      "0.005                ## [11] [growth_rate_sigma]: Rate at which growth rate changes if process is `rate`\n",
      "0.2                  ## [12] [ClaDS_sigma]: Rate at which speciation rate changes if ClaDS is True.\n",
      "0.95                 ## [13] [ClaDS_alpha]: Rate shift if ClaDS is True\n",
      "1000                 ## [14] [sequence_length]: Length of the genomic region simulated, in base pairs.\n",
      "1e-09                ## [15] [mutation_rate]: Mutation rate per base per generation\n",
      "5                    ## [16] [sample_size]: Number of samples to draw for calculating genetic diversity\n",
      "\n"
     ]
    }
   ],
   "source": [
    "tree = PIED.Core(\"vartest-clads\")\n",
    "tree.set_param(\"ntaxa\", 100)\n",
    "tree.set_param(\"birth_rate\", 0.3)\n",
    "tree.set_param(\"process\", \"rate\")\n",
    "tree.set_param(\"abundance_mean\", 5e3)\n",
    "tree.set_param(\"abundance_sigma\", 0)\n",
    "tree.set_param(\"growth_rate_mean\", 5e-3)\n",
    "tree.set_param(\"growth_rate_sigma\", 5e-3)\n",
    "tree.set_param(\"ClaDS\", \"True\")\n",
    "tree.set_param(\"ClaDS_sigma\", 0.2)\n",
    "tree.set_param(\"ClaDS_alpha\", 0.95)\n",
    "tree.set_param(\"sequence_length\", 1000)\n",
    "tree.set_param(\"mutation_rate\", 1e-9)\n",
    "tree.set_param(\"sample_size\", 5)\n",
    "_ = tree.get_params(verbose=True)\n"
   ]
  },
  {
   "cell_type": "code",
   "execution_count": 9,
   "metadata": {},
   "outputs": [
    {
     "name": "stdout",
     "output_type": "stream",
     "text": [
      "    Generating 10 simulation(s).\n",
      "  [####################] 100%  Finished 10 simulations in   0:01:12| \n",
      "     Generating 10 simulation(s).\n",
      "  [####################] 100%  Finished 10 simulations in   0:00:22| \n",
      "     Generating 10 simulation(s).\n",
      "  [####################] 100%  Finished 10 simulations in   0:00:43| \n",
      " "
     ]
    }
   ],
   "source": [
    "nsims=10\n",
    "for r in [5e-3, 5e-4, 5e-5]:\n",
    "    tree.set_param(\"growth_rate_sigma\", r)\n",
    "    tree.simulate(nsims=nsims, ipyclient=ipyclient)"
   ]
  },
  {
   "cell_type": "code",
   "execution_count": 30,
   "metadata": {},
   "outputs": [],
   "source": [
    "simfile = \"/home/isaac/PIED/jupyter-notebooks/default_PIED/vartest-clads-SIMOUT.csv\"\n",
    "_, df = PIED.util.load_sims(simfile)"
   ]
  },
  {
   "cell_type": "code",
   "execution_count": 31,
   "metadata": {},
   "outputs": [
    {
     "name": "stdout",
     "output_type": "stream",
     "text": [
      "0.041201550242730804\n",
      "0.004178662579291941\n",
      "0.0002461948467180016\n"
     ]
    },
    {
     "data": {
      "text/plain": [
       "<matplotlib.legend.Legend at 0x7f7338d4b358>"
      ]
     },
     "execution_count": 31,
     "metadata": {},
     "output_type": "execute_result"
    },
    {
     "data": {
      "image/png": "[encoded data removed]",
      "text/plain": [
       "<Figure size 864x576 with 1 Axes>"
      ]
     },
     "metadata": {
      "needs_background": "light"
     },
     "output_type": "display_data"
    }
   ],
   "source": [
    "large = df.iloc[:nsims]\n",
    "med = df.iloc[nsims:nsims*2]\n",
    "small = df.iloc[nsims*2:]\n",
    "plt.figure(figsize=(12,8))\n",
    "for r, dat in zip([\"5e-3\", \"5e-4\", \"5e-5\"], [large, med, small]):\n",
    "    rs = []\n",
    "    for row in dat:\n",
    "        rs.extend(dat[row].apply(lambda x: x[\"r\"]))\n",
    "    print(np.std(rs))\n",
    "    plt.hist(rs, bins=50, label=r, alpha=0.4)\n",
    "plt.legend()"
   ]
  }
 ],
 "metadata": {
  "kernelspec": {
   "display_name": "Python 3",
   "language": "python",
   "name": "python3"
  },
  "language_info": {
   "codemirror_mode": {
    "name": "ipython",
    "version": 3
   },
   "file_extension": ".py",
   "mimetype": "text/x-python",
   "name": "python",
   "nbconvert_exporter": "python",
   "pygments_lexer": "ipython3",
   "version": "3.6.7"
  }
 },
 "nbformat": 4,
 "nbformat_minor": 4
}
