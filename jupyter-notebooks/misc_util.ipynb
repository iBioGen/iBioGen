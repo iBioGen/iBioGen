{
 "cells": [
  {
   "cell_type": "code",
   "execution_count": 7,
   "metadata": {},
   "outputs": [
    {
     "name": "stdout",
     "output_type": "stream",
     "text": [
      "The autoreload extension is already loaded. To reload it, use:\n",
      "  %reload_ext autoreload\n"
     ]
    },
    {
     "data": {
      "text/plain": [
       "40"
      ]
     },
     "execution_count": 7,
     "metadata": {},
     "output_type": "execute_result"
    }
   ],
   "source": [
    "%load_ext autoreload\n",
    "%autoreload 2\n",
    "%matplotlib inline\n",
    "%load_ext rpy2.ipython\n",
    "\n",
    "import ipyparallel as ipp\n",
    "import matplotlib.pyplot as plt\n",
    "import msprime\n",
    "import numpy as np\n",
    "import pandas as pd\n",
    "import PIED\n",
    "import toytree\n",
    "\n",
    "from collections import Counter\n",
    "from IPython.display import display, SVG\n",
    "\n",
    "pd.set_option('display.max_rows', 100)\n",
    "pd.set_option('display.max_columns', 500)\n"
   ]
  },
  {
   "cell_type": "markdown",
   "metadata": {},
   "source": [
    "# Looking at different ways of getting time to next event\n",
    "I want to know if the way I want to do it and the way odile does it are the same, so this is part of the proof."
   ]
  },
  {
   "cell_type": "code",
   "execution_count": 3,
   "metadata": {},
   "outputs": [
    {
     "data": {
      "text/plain": [
       "(array([2.2821e+04, 1.7501e+04, 1.3342e+04, 1.0527e+04, 8.1670e+03,\n",
       "        6.2830e+03, 4.9220e+03, 3.6850e+03, 2.8740e+03, 2.2480e+03,\n",
       "        1.8310e+03, 1.3130e+03, 1.0370e+03, 7.4000e+02, 6.1900e+02,\n",
       "        4.6100e+02, 3.7900e+02, 2.7800e+02, 2.2100e+02, 1.7900e+02,\n",
       "        1.1500e+02, 1.0400e+02, 8.4000e+01, 6.6000e+01, 5.2000e+01,\n",
       "        3.6000e+01, 2.2000e+01, 3.0000e+01, 1.1000e+01, 1.5000e+01,\n",
       "        1.2000e+01, 5.0000e+00, 6.0000e+00, 4.0000e+00, 3.0000e+00,\n",
       "        2.0000e+00, 1.0000e+00, 0.0000e+00, 0.0000e+00, 1.0000e+00,\n",
       "        0.0000e+00, 0.0000e+00, 0.0000e+00, 1.0000e+00, 1.0000e+00,\n",
       "        0.0000e+00, 0.0000e+00, 0.0000e+00, 0.0000e+00, 1.0000e+00]),\n",
       " array([2.30061476e-07, 1.28483224e-02, 2.56964147e-02, 3.85445070e-02,\n",
       "        5.13925993e-02, 6.42406916e-02, 7.70887839e-02, 8.99368762e-02,\n",
       "        1.02784968e-01, 1.15633061e-01, 1.28481153e-01, 1.41329245e-01,\n",
       "        1.54177338e-01, 1.67025430e-01, 1.79873522e-01, 1.92721615e-01,\n",
       "        2.05569707e-01, 2.18417799e-01, 2.31265891e-01, 2.44113984e-01,\n",
       "        2.56962076e-01, 2.69810168e-01, 2.82658261e-01, 2.95506353e-01,\n",
       "        3.08354445e-01, 3.21202538e-01, 3.34050630e-01, 3.46898722e-01,\n",
       "        3.59746814e-01, 3.72594907e-01, 3.85442999e-01, 3.98291091e-01,\n",
       "        4.11139184e-01, 4.23987276e-01, 4.36835368e-01, 4.49683461e-01,\n",
       "        4.62531553e-01, 4.75379645e-01, 4.88227737e-01, 5.01075830e-01,\n",
       "        5.13923922e-01, 5.26772014e-01, 5.39620107e-01, 5.52468199e-01,\n",
       "        5.65316291e-01, 5.78164384e-01, 5.91012476e-01, 6.03860568e-01,\n",
       "        6.16708660e-01, 6.29556753e-01, 6.42404845e-01]),\n",
       " <a list of 50 Patch objects>)"
      ]
     },
     "execution_count": 3,
     "metadata": {},
     "output_type": "execute_result"
    },
    {
     "data": {
      "image/png": "[encoded data removed]",
      "text/plain": [
       "<Figure size 432x288 with 1 Axes>"
      ]
     },
     "metadata": {
      "needs_background": "light"
     },
     "output_type": "display_data"
    }
   ],
   "source": [
    "# These _should_ converge with large number of trials, and they do\n",
    "b=1\n",
    "ntips = 20\n",
    "trials = 100000\n",
    "t1 = []\n",
    "t2 = []\n",
    "for _ in range(trials):\n",
    "    t1.append(np.random.exponential(1/ntips * b))\n",
    "    t2.append(np.min(np.random.exponential(b, ntips)))\n",
    "plt.hist(t1, alpha=0.5, bins=50)\n",
    "plt.hist(t2, alpha=0.5, bins=50)"
   ]
  },
  {
   "cell_type": "markdown",
   "metadata": {},
   "source": [
    "# ClaDS/PIED speciation time sampling strategy\n",
    "This is the rest of the proof that PIED and ClaDS are equivalent. The figure shows the distribution of draws for next lineage to speciate based on the rates, and the code behaves identically."
   ]
  },
  {
   "cell_type": "code",
   "execution_count": 9,
   "metadata": {},
   "outputs": [
    {
     "data": {
      "text/plain": [
       "(array([11806.,  8346.,  7623., 10061., 12073., 11919.,  9263., 10240.,\n",
       "        10679.,  7990.]),\n",
       " array([0. , 0.9, 1.8, 2.7, 3.6, 4.5, 5.4, 6.3, 7.2, 8.1, 9. ]),\n",
       " <a list of 10 Patch objects>)"
      ]
     },
     "execution_count": 9,
     "metadata": {},
     "output_type": "execute_result"
    },
    {
     "data": {
      "image/png": "[encoded data removed]",
      "text/plain": [
       "<Figure size 432x288 with 1 Axes>"
      ]
     },
     "metadata": {
      "needs_background": "light"
     },
     "output_type": "display_data"
    }
   ],
   "source": [
    "nsims = 100000\n",
    "# \"normal\" bd process\n",
    "#print(np.random.exponential(1/10 * 0.3, 10))\n",
    "# simulated clads\n",
    "lambdas = np.random.uniform(0.2, 0.4, 10)\n",
    "lambdas = lambdas/np.sum(lambdas)\n",
    "\n",
    "def expon():\n",
    "    val = np.random.exponential(1/lambdas)\n",
    "    min_ = np.min(val)\n",
    "    idx = np.where(val == min_)[0][0]\n",
    "    return idx\n",
    "\n",
    "mins = []\n",
    "for _ in range(nsims):\n",
    "    idx = expon()\n",
    "    mins.append(idx)\n",
    "plt.hist(mins, alpha=0.5)\n",
    "\n",
    "def cumsum():\n",
    "    rand = np.random.uniform()\n",
    "    cumsum = np.cumsum(lambdas)/np.sum(lambdas)\n",
    "    l = len(np.where(cumsum > rand)[0])\n",
    "    idx = len(lambdas)-l\n",
    "    return idx\n",
    "\n",
    "mins = []\n",
    "for _ in range(nsims):\n",
    "    idx = cumsum()\n",
    "    mins.append(idx)\n",
    "_, _, _ = plt.hist(mins, alpha=0.5)"
   ]
  },
  {
   "cell_type": "markdown",
   "metadata": {},
   "source": [
    "# Maybe ClaDS is faster?\n",
    "Nope"
   ]
  },
  {
   "cell_type": "code",
   "execution_count": 10,
   "metadata": {},
   "outputs": [
    {
     "name": "stdout",
     "output_type": "stream",
     "text": [
      "20.4 ns ± 0.281 ns per loop (mean ± std. dev. of 7 runs, 10000000 loops each)\n",
      "20.1 ns ± 0.107 ns per loop (mean ± std. dev. of 7 runs, 10000000 loops each)\n"
     ]
    }
   ],
   "source": [
    "%timeit expon\n",
    "%timeit cumsum"
   ]
  },
  {
   "cell_type": "markdown",
   "metadata": {},
   "source": [
    "# Verify that np lognormal routine is parameterized the same was as rlnorm"
   ]
  },
  {
   "cell_type": "code",
   "execution_count": 8,
   "metadata": {},
   "outputs": [
    {
     "name": "stdout",
     "output_type": "stream",
     "text": [
      "[12.89548523 33.49335106 20.34407528  6.15413878 15.38848545 77.27390262\n",
      "  6.5272917   2.72450871  5.55910721 13.9641835 ]\n"
     ]
    },
    {
     "data": {
      "text/plain": [
       "array([ 10.4285489 ,   3.95874887,  13.35522422,  58.00892704,\n",
       "       181.724436  ,   4.65015688,  21.38022836,   7.05199923,\n",
       "         4.41982651,  25.54456241])"
      ]
     },
     "execution_count": 8,
     "metadata": {},
     "output_type": "execute_result"
    }
   ],
   "source": [
    "print(np.random.lognormal(np.log(10), 1, 10))\n",
    "%R rlnorm(10, meanlog=log(10), sdlog=1)"
   ]
  }
 ],
 "metadata": {
  "kernelspec": {
   "display_name": "Python 3",
   "language": "python",
   "name": "python3"
  },
  "language_info": {
   "codemirror_mode": {
    "name": "ipython",
    "version": 3
   },
   "file_extension": ".py",
   "mimetype": "text/x-python",
   "name": "python",
   "nbconvert_exporter": "python",
   "pygments_lexer": "ipython3",
   "version": "3.6.7"
  }
 },
 "nbformat": 4,
 "nbformat_minor": 4
}
